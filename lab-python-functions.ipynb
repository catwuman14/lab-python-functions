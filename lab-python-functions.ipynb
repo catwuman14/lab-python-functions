{
 "cells": [
  {
   "cell_type": "markdown",
   "id": "25d7736c-ba17-4aff-b6bb-66eba20fbf4e",
   "metadata": {},
   "source": [
    "# Lab | Functions"
   ]
  },
  {
   "cell_type": "markdown",
   "id": "0c581062-8967-4d93-b06e-62833222f930",
   "metadata": {
    "tags": []
   },
   "source": [
    "## Exercise: Managing Customer Orders with Functions\n",
    "\n",
    "In the previous exercise, you improved the code for managing customer orders by using loops and flow control. Now, let's take it a step further and refactor the code by introducing functions.\n",
    "\n",
    "Follow the steps below to complete the exercise:\n",
    "\n",
    "1. Define a function named `initialize_inventory` that takes `products` as a parameter. Inside the function, implement the code for initializing the inventory dictionary using a loop and user input.\n",
    "\n",
    "2. Define a function named `get_customer_orders` that takes no parameters. Inside the function, implement the code for prompting the user to enter the product names using a loop. The function should return the `customer_orders` set.\n",
    "\n",
    "3. Define a function named `update_inventory` that takes `customer_orders` and `inventory` as parameters. Inside the function, implement the code for updating the inventory dictionary based on the customer orders.\n",
    "\n",
    "4. Define a function named `calculate_order_statistics` that takes `customer_orders` and `products` as parameters. Inside the function, implement the code for calculating the order statistics (total products ordered, and percentage of unique products ordered). The function should return these values.\n",
    "\n",
    "5. Define a function named `print_order_statistics` that takes `order_statistics` as a parameter. Inside the function, implement the code for printing the order statistics.\n",
    "\n",
    "6. Define a function named `print_updated_inventory` that takes `inventory` as a parameter. Inside the function, implement the code for printing the updated inventory.\n",
    "\n",
    "7. Call the functions in the appropriate sequence to execute the program and manage customer orders.\n",
    "\n",
    "Hints for functions:\n",
    "\n",
    "- Consider the input parameters required for each function and their return values.\n",
    "- Utilize function parameters and return values to transfer data between functions.\n",
    "- Test your functions individually to ensure they work correctly.\n",
    "\n",
    "\n"
   ]
  },
  {
   "cell_type": "code",
   "execution_count": 1,
   "id": "347ec6a6-221f-4046-bf58-a26a4b4018ca",
   "metadata": {},
   "outputs": [
    {
     "name": "stdout",
     "output_type": "stream",
     "text": [
      "['t-shirt', 'mug', 'hat', 'book', 'keychain']\n",
      "{}\n"
     ]
    }
   ],
   "source": [
    "products = [\"t-shirt\", \"mug\", \"hat\", \"book\", \"keychain\"]\n",
    "print(products)\n",
    "inventory = {}\n",
    "print(inventory)"
   ]
  },
  {
   "cell_type": "code",
   "execution_count": 162,
   "id": "5370b121-85c9-4d8c-9be0-fa0a72e91eb4",
   "metadata": {},
   "outputs": [
    {
     "name": "stdin",
     "output_type": "stream",
     "text": [
      "please input a value for t-shirt: 5\n",
      "please input a value for mug: 4\n",
      "please input a value for hat: 3\n",
      "please input a value for book: 2\n",
      "please input a value for keychain: 1\n"
     ]
    }
   ],
   "source": [
    "#since the list and sets are global, any changes made to it would reset the values churned out in the function below\n",
    "def initialize_inventory(products, inventory = {}): #define\n",
    "    for product in products: #conditions\n",
    "        value = int(input(f\"please input a value for {product}:\"))\n",
    "        inventory[product] = value  \n",
    "    return inventory #variable name - here it returns what you're storing in the dictionary\n",
    "\n",
    "intitialized_inventory = initialize_inventory(products) #because is an empty inventory - it will only be not empty if it's explicitly set, otherwise it's empty - that's why you don't need 2 parameters here "
   ]
  },
  {
   "cell_type": "code",
   "execution_count": 164,
   "id": "a1dae30f-f55e-490b-8b01-7a51db8b2c96",
   "metadata": {},
   "outputs": [
    {
     "name": "stdin",
     "output_type": "stream",
     "text": [
      "please input a value for t-shirt: 5\n",
      "please input a value for mug: 4\n",
      "please input a value for hat: 3\n",
      "please input a value for book: 2\n",
      "please input a value for keychain: 1\n"
     ]
    }
   ],
   "source": [
    "#alternatively, have the inventory parameter within the function\n",
    "def initialize_inventory(products): #define\n",
    "    inventory = {}\n",
    "    for product in products: #conditions\n",
    "        value = int(input(f\"please input a value for {product}:\"))\n",
    "        inventory[product] = value  \n",
    "    return inventory #variable name - here it returns what you're storing in the dictionary\n",
    "\n",
    "intitialized_inventory = initialize_inventory(products) #to assign the results (i.e. store/save) you should assign a variable to the function call "
   ]
  },
  {
   "cell_type": "code",
   "execution_count": 150,
   "id": "4303f50b-e109-416e-bb20-73d5f5672aaf",
   "metadata": {},
   "outputs": [
    {
     "data": {
      "text/plain": [
       "{'t-shirt': 5, 'mug': 4, 'hat': 3, 'book': 2, 'keychain': 1}"
      ]
     },
     "execution_count": 150,
     "metadata": {},
     "output_type": "execute_result"
    }
   ],
   "source": [
    "intitialized_inventory"
   ]
  },
  {
   "cell_type": "code",
   "execution_count": 166,
   "id": "08642568-69a9-4afe-9b6c-f9d46e518b04",
   "metadata": {},
   "outputs": [
    {
     "name": "stdin",
     "output_type": "stream",
     "text": [
      "please select another product from the following list ['t-shirt', 'mug', 'hat', 'book', 'keychain']: mug\n",
      "do you want to add another product, yes or no: yes\n",
      "please select another product from the following list ['t-shirt', 'mug', 'hat', 'book', 'keychain']: no\n"
     ]
    },
    {
     "name": "stdout",
     "output_type": "stream",
     "text": [
      "\n",
      "no is not a valid item\n"
     ]
    },
    {
     "name": "stdin",
     "output_type": "stream",
     "text": [
      "do you want to add another product, yes or no: no\n"
     ]
    },
    {
     "name": "stdout",
     "output_type": "stream",
     "text": [
      "your order is complete. thank you for your order!\n"
     ]
    }
   ],
   "source": [
    "def get_customer_orders(inventory): #define function\n",
    "    customer_orders = set() #define the empty set i.e. the function should start from an empty set\n",
    "    another = \"yes\" #define the start aka default assumption\n",
    "    while another == \"yes\": #start the while loop \n",
    "        order=(input(f\"please select another product from the following list {products}:\",)) #what do you do when the loop starts\n",
    "        if order in inventory.keys() and inventory[order]>0: \n",
    "            customer_orders.add(order) #add order to list\n",
    "        else: \n",
    "            print(f\"\\n{order} is not a valid item\") #show error message when incorrect item is added \n",
    "        another = input(\"do you want to add another product, yes or no:\",).lower() #another question\n",
    "    print (\"your order is complete. thank you for your order!\")\n",
    "    return customer_orders\n",
    "\n",
    "customer_orders = get_customer_orders(intitialized_inventory) #actual values as argument, not parameters "
   ]
  },
  {
   "cell_type": "code",
   "execution_count": 116,
   "id": "cbbd0ab8-217d-45e5-85fb-f6d55c486293",
   "metadata": {},
   "outputs": [
    {
     "data": {
      "text/plain": [
       "{'t-shirt': 1, 'mug': 2, 'hat': 0, 'book': 4, 'keychain': 5}"
      ]
     },
     "execution_count": 116,
     "metadata": {},
     "output_type": "execute_result"
    }
   ],
   "source": [
    "def update_inventory(customer_orders, inventory):\n",
    "    for order in customer_orders:\n",
    "        if order in inventory:\n",
    "            if inventory[order]>0:\n",
    "                inventory[order]-=1\n",
    "            else: (\"inventory is out of stock\") \n",
    "        else:\n",
    "            print(\"order is not available\")\n",
    "        return inventory\n",
    "update_inventory(customer_orders, inventory)"
   ]
  },
  {
   "cell_type": "code",
   "execution_count": 102,
   "id": "91bea0fe-3c67-49d9-9227-c990a952059f",
   "metadata": {},
   "outputs": [],
   "source": [
    "def calculate_order_statistics (customer_orders, products):\n",
    "    total_customer_order = len(customer_orders)\n",
    "    total_inventory = len(inventory)\n",
    "    \n",
    "    percentage=(total_customer_order)/(total_inventory)*100\n",
    "    order_statistics = (total_customer_order, percentage)\n",
    "    return order_statistics\n",
    "\n",
    "order_statistics = calculate_order_statistics (customer_orders, products)\n"
   ]
  },
  {
   "cell_type": "code",
   "execution_count": 106,
   "id": "094d0059-47c4-4cd5-afb3-c67af2410f72",
   "metadata": {},
   "outputs": [
    {
     "data": {
      "text/plain": [
       "60.0"
      ]
     },
     "execution_count": 106,
     "metadata": {},
     "output_type": "execute_result"
    }
   ],
   "source": [
    "order_statistics[1]\n"
   ]
  },
  {
   "cell_type": "code",
   "execution_count": 108,
   "id": "f6627252-ea19-4578-9811-ce35ee2730b7",
   "metadata": {},
   "outputs": [
    {
     "name": "stdout",
     "output_type": "stream",
     "text": [
      "total customer orders: 3\n",
      "total percentage: 60.0\n"
     ]
    }
   ],
   "source": [
    "def print_order_statistics (order_statistics):\n",
    "    print(\"total customer orders:\", order_statistics[0])\n",
    "    print(\"total percentage:\", order_statistics[1])\n",
    "print_order_statistics (order_statistics)"
   ]
  },
  {
   "cell_type": "code",
   "execution_count": 118,
   "id": "a5b7e6ef-2ebc-4c21-be36-fcf18e79786d",
   "metadata": {},
   "outputs": [
    {
     "name": "stdout",
     "output_type": "stream",
     "text": [
      "updated inventory: {'t-shirt': 1, 'mug': 2, 'hat': 0, 'book': 4, 'keychain': 5}\n"
     ]
    }
   ],
   "source": [
    "def print_updated_inventory(inventory):\n",
    "    print(\"updated inventory:\", update_inventory(customer_orders, inventory))\n",
    "print_updated_inventory(inventory)"
   ]
  },
  {
   "cell_type": "code",
   "execution_count": null,
   "id": "a608710e-4956-4733-b21c-0848e7d0dd46",
   "metadata": {},
   "outputs": [],
   "source": []
  }
 ],
 "metadata": {
  "kernelspec": {
   "display_name": "Python [conda env:base] *",
   "language": "python",
   "name": "conda-base-py"
  },
  "language_info": {
   "codemirror_mode": {
    "name": "ipython",
    "version": 3
   },
   "file_extension": ".py",
   "mimetype": "text/x-python",
   "name": "python",
   "nbconvert_exporter": "python",
   "pygments_lexer": "ipython3",
   "version": "3.12.7"
  }
 },
 "nbformat": 4,
 "nbformat_minor": 5
}
